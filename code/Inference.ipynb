{
 "cells": [
  {
   "cell_type": "code",
   "execution_count": 1,
   "id": "f0daac67-2dca-494d-8f33-bdadab211bf0",
   "metadata": {},
   "outputs": [],
   "source": [
    "import os\n",
    "import cv2\n",
    "os.environ['KMP_DUPLICATE_LIB_OK']='True'\n",
    "import numpy as np\n",
    "\n",
    "from mmseg.apis import init_model, inference_model, show_result_pyplot"
   ]
  },
  {
   "cell_type": "code",
   "execution_count": 3,
   "id": "c2320cbd-768a-4e19-b7ec-1832e3e3c260",
   "metadata": {},
   "outputs": [
    {
     "name": "stderr",
     "output_type": "stream",
     "text": [
      "c:\\users\\user\\desktop\\hubmap\\mmsegmentation\\mmseg\\models\\decode_heads\\decode_head.py:120: UserWarning: For binary segmentation, we suggest using`out_channels = 1` to define the outputchannels of segmentor, and use `threshold`to convert `seg_logits` into a predictionapplying a threshold\n",
      "  warnings.warn('For binary segmentation, we suggest using'\n",
      "c:\\users\\user\\desktop\\hubmap\\mmsegmentation\\mmseg\\models\\builder.py:36: UserWarning: ``build_loss`` would be deprecated soon, please use ``mmseg.registry.MODELS.build()`` \n",
      "  warnings.warn('``build_loss`` would be deprecated soon, please use '\n",
      "c:\\users\\user\\desktop\\hubmap\\mmsegmentation\\mmseg\\models\\losses\\cross_entropy_loss.py:235: UserWarning: Default ``avg_non_ignore`` is False, if you would like to ignore the certain label and average loss over non-ignore labels, which is the same with PyTorch official cross_entropy, set ``avg_non_ignore=True``.\n",
      "  warnings.warn(\n"
     ]
    },
    {
     "name": "stdout",
     "output_type": "stream",
     "text": [
      "Loads checkpoint by local backend from path: ../../work_dirs/pidnet-s_2xb6-120k_256x256-glomer/iter_300000.pth\n",
      "08/28 11:56:31 - mmengine - \u001b[5m\u001b[4m\u001b[33mWARNING\u001b[0m - `Visualizer` backend is not initialized because save_dir is None.\n"
     ]
    },
    {
     "name": "stderr",
     "output_type": "stream",
     "text": [
      "c:\\users\\user\\desktop\\hubmap\\mmsegmentation\\mmseg\\models\\utils\\wrappers.py:22: UserWarning: When align_corners=True, the output would more aligned if input size (32, 32) is `x+1` and out size (256, 256) is `nx+1`\n",
      "  warnings.warn(\n",
      "c:\\users\\user\\desktop\\hubmap\\mmsegmentation\\mmseg\\models\\utils\\wrappers.py:22: UserWarning: When align_corners=True, the output would more aligned if input size (32, 32) is `x+1` and out size (256, 256) is `nx+1`\n",
      "  warnings.warn(\n"
     ]
    }
   ],
   "source": [
    "config_path = '../../work_dirs/pidnet-s_2xb6-120k_256x256-glomer/pidnet-s_2xb6-120k_256x256-glomer.py'\n",
    "checkpoint_path = '../../work_dirs/pidnet-s_2xb6-120k_256x256-glomer/iter_300000.pth'\n",
    "\n",
    "# build the model from a config file and a checkpoint file\n",
    "model = init_model(config_path, checkpoint_path, device='cuda:0')\n",
    "\n",
    "val_list = ['1e2425f28_0494.png', '1e2425f28_0598.png', '2f6ecfcdf_0615.png']\n",
    "\n",
    "for img_name in val_list:\n",
    "    \n",
    "    img_path = '../../cut_1024/val_img/' + img_name\n",
    "    mask_path = '../../cut_1024/val_mask/' + img_name\n",
    "\n",
    "    # inference on given image\n",
    "    result = inference_model(model, img_path)\n",
    "\n",
    "    # save the visualization result, the output image would be found at the path `work_dirs/result.png`\n",
    "    vis_iamge = show_result_pyplot(model, img_path, result, out_file='../../pred_result/' + img_name)\n",
    "\n",
    "    img = cv2.imread(img_path)\n",
    "    seg_map = cv2.imread(mask_path, 0)\n",
    "    seg_colored = np.zeros((seg_map.shape[0], seg_map.shape[1], 3), dtype=np.uint8)\n",
    "\n",
    "    palette = [[0, 0, 0], [0, 255, 0]]\n",
    "\n",
    "    for i, color in enumerate(palette):\n",
    "        seg_colored[seg_map == i] = color\n",
    "\n",
    "    seg_result = cv2.addWeighted(img, 0.7, seg_colored, 0.7, 0)\n",
    "    cv2.imwrite(\"../../gt/\"+img_name, seg_result)"
   ]
  },
  {
   "cell_type": "code",
   "execution_count": null,
   "id": "5b49d520-648a-4dc5-9861-72f342019b8d",
   "metadata": {},
   "outputs": [],
   "source": []
  }
 ],
 "metadata": {
  "kernelspec": {
   "display_name": "Python 3 (ipykernel)",
   "language": "python",
   "name": "python3"
  },
  "language_info": {
   "codemirror_mode": {
    "name": "ipython",
    "version": 3
   },
   "file_extension": ".py",
   "mimetype": "text/x-python",
   "name": "python",
   "nbconvert_exporter": "python",
   "pygments_lexer": "ipython3",
   "version": "3.10.0"
  }
 },
 "nbformat": 4,
 "nbformat_minor": 5
}
