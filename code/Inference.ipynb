{
 "cells": [
  {
   "cell_type": "code",
   "execution_count": 9,
   "id": "f0daac67-2dca-494d-8f33-bdadab211bf0",
   "metadata": {},
   "outputs": [],
   "source": [
    "import os\n",
    "os.environ['KMP_DUPLICATE_LIB_OK']='True'\n",
    "\n",
    "from mmseg.apis import init_model, inference_model, show_result_pyplot"
   ]
  },
  {
   "cell_type": "code",
   "execution_count": 10,
   "id": "c2320cbd-768a-4e19-b7ec-1832e3e3c260",
   "metadata": {},
   "outputs": [],
   "source": [
    "config_path = '../../work_dirs/pidnet-s_2xb6-120k_1024x1024-glomer/pidnet-s_2xb6-120k_1024x1024-glomer.py'\n",
    "checkpoint_path = '../../work_dirs/pidnet-s_2xb6-120k_1024x1024-glomer/iter_1200.pth'\n",
    "#img_path = '../../cut_1024/val_img/1e2425f28_0495.png'\n",
    "img_path = '../../../test.png'"
   ]
  },
  {
   "cell_type": "code",
   "execution_count": 11,
   "id": "4aa3abdc-4a5d-427e-b450-ebb3e5c260d5",
   "metadata": {},
   "outputs": [
    {
     "name": "stdout",
     "output_type": "stream",
     "text": [
      "Loads checkpoint by local backend from path: ../../work_dirs/pidnet-s_2xb6-120k_1024x1024-glomer/iter_1200.pth\n"
     ]
    },
    {
     "name": "stderr",
     "output_type": "stream",
     "text": [
      "c:\\users\\user\\desktop\\hubmap\\mmsegmentation\\mmseg\\models\\utils\\wrappers.py:22: UserWarning: When align_corners=True, the output would more aligned if input size (128, 128) is `x+1` and out size (1024, 1024) is `nx+1`\n",
      "  warnings.warn(\n"
     ]
    }
   ],
   "source": [
    "# build the model from a config file and a checkpoint file\n",
    "model = init_model(config_path, checkpoint_path, device='cuda:0')\n",
    "\n",
    "# inference on given image\n",
    "result = inference_model(model, img_path)\n",
    "\n",
    "# save the visualization result, the output image would be found at the path `work_dirs/result.png`\n",
    "vis_iamge = show_result_pyplot(model, img_path, result, out_file='work_dirs/result.png')"
   ]
  },
  {
   "cell_type": "code",
   "execution_count": null,
   "id": "f0feb7ad-d479-48f9-be02-a6a2f6a467c4",
   "metadata": {},
   "outputs": [],
   "source": []
  }
 ],
 "metadata": {
  "kernelspec": {
   "display_name": "Python 3 (ipykernel)",
   "language": "python",
   "name": "python3"
  },
  "language_info": {
   "codemirror_mode": {
    "name": "ipython",
    "version": 3
   },
   "file_extension": ".py",
   "mimetype": "text/x-python",
   "name": "python",
   "nbconvert_exporter": "python",
   "pygments_lexer": "ipython3",
   "version": "3.10.0"
  }
 },
 "nbformat": 4,
 "nbformat_minor": 5
}
