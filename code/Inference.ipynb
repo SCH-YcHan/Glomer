{
 "cells": [
  {
   "cell_type": "code",
   "execution_count": 18,
   "id": "f0daac67-2dca-494d-8f33-bdadab211bf0",
   "metadata": {},
   "outputs": [],
   "source": [
    "import os\n",
    "import cv2\n",
    "os.environ['KMP_DUPLICATE_LIB_OK']='True'\n",
    "import numpy as np\n",
    "\n",
    "from mmseg.apis import init_model, inference_model, show_result_pyplot"
   ]
  },
  {
   "cell_type": "code",
   "execution_count": 57,
   "id": "c2320cbd-768a-4e19-b7ec-1832e3e3c260",
   "metadata": {},
   "outputs": [],
   "source": [
    "config_path = '../../work_dirs/pidnet-s_2xb6-120k_256x256-glomer/pidnet-s_2xb6-120k_256x256-glomer.py'\n",
    "checkpoint_path = '../../work_dirs/pidnet-s_2xb6-120k_256x256-glomer/iter_300000.pth'\n",
    "\n",
    "img_name = \"1e2425f28_0427.png\"\n",
    "img_path = '../../cut_256/val_img/' + img_name\n",
    "mask_path = '../../cut_256/val_mask/' + img_name"
   ]
  },
  {
   "cell_type": "code",
   "execution_count": 58,
   "id": "4aa3abdc-4a5d-427e-b450-ebb3e5c260d5",
   "metadata": {},
   "outputs": [
    {
     "name": "stdout",
     "output_type": "stream",
     "text": [
      "Loads checkpoint by local backend from path: ../../work_dirs/pidnet-s_2xb6-120k_256x256-glomer/iter_300000.pth\n"
     ]
    }
   ],
   "source": [
    "# build the model from a config file and a checkpoint file\n",
    "model = init_model(config_path, checkpoint_path, device='cuda:0')\n",
    "\n",
    "# inference on given image\n",
    "result = inference_model(model, img_path)\n",
    "\n",
    "# save the visualization result, the output image would be found at the path `work_dirs/result.png`\n",
    "vis_iamge = show_result_pyplot(model, img_path, result, out_file='../../pred_result/' + img_name)"
   ]
  },
  {
   "cell_type": "code",
   "execution_count": 59,
   "id": "500b9af9-34d9-4c80-8452-da213d8e2687",
   "metadata": {},
   "outputs": [],
   "source": [
    "img = cv2.imread(img_path)\n",
    "seg_map = cv2.imread(mask_path, 0)\n",
    "seg_colored = np.zeros((seg_map.shape[0], seg_map.shape[1], 3), dtype=np.uint8)"
   ]
  },
  {
   "cell_type": "code",
   "execution_count": 60,
   "id": "cdf0aa1b-2570-43c7-b800-818f06dc534c",
   "metadata": {},
   "outputs": [],
   "source": [
    "palette = [[0, 0, 0], [0, 255, 0]]"
   ]
  },
  {
   "cell_type": "code",
   "execution_count": 61,
   "id": "852f254e-f4a8-4f44-9126-a9b8dbd9aeed",
   "metadata": {},
   "outputs": [],
   "source": [
    "for i, color in enumerate(palette):\n",
    "    seg_colored[seg_map == i] = color"
   ]
  },
  {
   "cell_type": "code",
   "execution_count": 62,
   "id": "747decd2-6257-4fe3-ab4d-50cb652b4b4a",
   "metadata": {},
   "outputs": [],
   "source": [
    "seg_result = cv2.addWeighted(img, 0.7, seg_colored, 0.7, 0)"
   ]
  },
  {
   "cell_type": "code",
   "execution_count": 63,
   "id": "a4709516-551d-43c4-8cbc-50f705b91efa",
   "metadata": {},
   "outputs": [
    {
     "data": {
      "text/plain": [
       "True"
      ]
     },
     "execution_count": 63,
     "metadata": {},
     "output_type": "execute_result"
    }
   ],
   "source": [
    "cv2.imwrite(\"../../gt/\"+img_name, seg_result)"
   ]
  },
  {
   "cell_type": "code",
   "execution_count": null,
   "id": "5b49d520-648a-4dc5-9861-72f342019b8d",
   "metadata": {},
   "outputs": [],
   "source": []
  }
 ],
 "metadata": {
  "kernelspec": {
   "display_name": "Python 3 (ipykernel)",
   "language": "python",
   "name": "python3"
  },
  "language_info": {
   "codemirror_mode": {
    "name": "ipython",
    "version": 3
   },
   "file_extension": ".py",
   "mimetype": "text/x-python",
   "name": "python",
   "nbconvert_exporter": "python",
   "pygments_lexer": "ipython3",
   "version": "3.10.0"
  }
 },
 "nbformat": 4,
 "nbformat_minor": 5
}
