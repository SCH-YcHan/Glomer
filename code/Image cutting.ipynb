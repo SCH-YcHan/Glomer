{
 "cells": [
  {
   "cell_type": "code",
   "execution_count": 1,
   "id": "9166b30b-acb5-4db5-aa82-538f4ff06175",
   "metadata": {},
   "outputs": [],
   "source": [
    "import os\n",
    "from PIL import Image"
   ]
  },
  {
   "cell_type": "code",
   "execution_count": 2,
   "id": "6e16af5d-b38e-4d5b-9cf1-7c6bd1959948",
   "metadata": {},
   "outputs": [],
   "source": [
    "base_path = \"../../../glomer/test_img/\"\n",
    "test_img = os.listdir(base_path)"
   ]
  },
  {
   "cell_type": "code",
   "execution_count": 3,
   "id": "214526c1-1828-418d-b3ec-a35183d6e2b4",
   "metadata": {},
   "outputs": [],
   "source": [
    "save_path = \"../../test_img_cut/\"\n",
    "if not os.path.exists(save_path):\n",
    "    os.mkdir(save_path)"
   ]
  },
  {
   "cell_type": "code",
   "execution_count": 4,
   "id": "36336b55-455e-4a15-a1af-e567bb1dc56c",
   "metadata": {},
   "outputs": [],
   "source": [
    "Image.MAX_IMAGE_PIXELS = 1000000000\n",
    "\n",
    "def crop_and_save(image_path, output_folder, crop_size, stride):\n",
    "    # 이미지 열기\n",
    "    image = Image.open(image_path)\n",
    "    \n",
    "    total_width, total_height = image.size\n",
    "    crop_width, crop_height = crop_size\n",
    "    x_stride, y_stride = stride\n",
    "\n",
    "    if not os.path.exists(output_folder):\n",
    "        os.mkdir(output_folder)\n",
    "\n",
    "    for y in range(0, total_height - crop_height + 1, y_stride):\n",
    "        for x in range(0, total_width - crop_width + 1, x_stride):\n",
    "            left = x\n",
    "            upper = y\n",
    "            right = left + crop_width\n",
    "            lower = upper + crop_height\n",
    "\n",
    "            cropped_img = image.crop((left, upper, right, lower))\n",
    "\n",
    "            pixel_data = list(cropped_img.getdata())\n",
    "            total_pixel = 0\n",
    "\n",
    "            for pixel in pixel_data:\n",
    "                total_pixel += sum(pixel)\n",
    "\n",
    "            if total_pixel < 770000000:\n",
    "                save_path = f\"{output_folder}/crop_{x}_{y}.png\"\n",
    "                cropped_img.save(save_path)"
   ]
  },
  {
   "cell_type": "code",
   "execution_count": 5,
   "id": "ce83cbcb-0312-40ac-a586-7cb508cb4b19",
   "metadata": {},
   "outputs": [
    {
     "ename": "NameError",
     "evalue": "name 'stride' is not defined",
     "output_type": "error",
     "traceback": [
      "\u001b[1;31m---------------------------------------------------------------------------\u001b[0m",
      "\u001b[1;31mNameError\u001b[0m                                 Traceback (most recent call last)",
      "Cell \u001b[1;32mIn[5], line 7\u001b[0m\n\u001b[0;32m      4\u001b[0m crop_size \u001b[38;5;241m=\u001b[39m (\u001b[38;5;241m1024\u001b[39m, \u001b[38;5;241m1024\u001b[39m)\n\u001b[0;32m      5\u001b[0m strid \u001b[38;5;241m=\u001b[39m (\u001b[38;5;241m512\u001b[39m, \u001b[38;5;241m512\u001b[39m)\n\u001b[1;32m----> 7\u001b[0m crop_and_save(test_img_path, save_folder_path, crop_size, \u001b[43mstride\u001b[49m)\n",
      "\u001b[1;31mNameError\u001b[0m: name 'stride' is not defined"
     ]
    }
   ],
   "source": [
    "for img in test_img:\n",
    "    test_img_path = base_path + img\n",
    "    save_folder_path = save_path + img.split(\".\")[0] + \"/\"\n",
    "    crop_size = (1024, 1024)\n",
    "    stride = (512, 512)\n",
    "\n",
    "    crop_and_save(test_img_path, save_folder_path, crop_size, stride)"
   ]
  },
  {
   "cell_type": "code",
   "execution_count": null,
   "id": "96220987-f8b7-4b0a-a7e8-2573c0ee9636",
   "metadata": {},
   "outputs": [],
   "source": []
  }
 ],
 "metadata": {
  "kernelspec": {
   "display_name": "Python 3 (ipykernel)",
   "language": "python",
   "name": "python3"
  },
  "language_info": {
   "codemirror_mode": {
    "name": "ipython",
    "version": 3
   },
   "file_extension": ".py",
   "mimetype": "text/x-python",
   "name": "python",
   "nbconvert_exporter": "python",
   "pygments_lexer": "ipython3",
   "version": "3.10.0"
  }
 },
 "nbformat": 4,
 "nbformat_minor": 5
}
