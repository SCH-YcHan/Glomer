{
 "cells": [
  {
   "cell_type": "code",
   "execution_count": 1,
   "id": "9166b30b-acb5-4db5-aa82-538f4ff06175",
   "metadata": {},
   "outputs": [],
   "source": [
    "import os\n",
    "from PIL import Image"
   ]
  },
  {
   "cell_type": "code",
   "execution_count": 2,
   "id": "6e16af5d-b38e-4d5b-9cf1-7c6bd1959948",
   "metadata": {},
   "outputs": [],
   "source": [
    "base_path = \"../../../glomer/test_img/\"\n",
    "test_img = os.listdir(base_path)"
   ]
  },
  {
   "cell_type": "code",
   "execution_count": 3,
   "id": "214526c1-1828-418d-b3ec-a35183d6e2b4",
   "metadata": {},
   "outputs": [],
   "source": [
    "save_path = \"../../test_img_cut/\"\n",
    "if not os.path.exists(save_path):\n",
    "    os.mkdir(save_path)"
   ]
  },
  {
   "cell_type": "code",
   "execution_count": 4,
   "id": "36336b55-455e-4a15-a1af-e567bb1dc56c",
   "metadata": {},
   "outputs": [],
   "source": [
    "Image.MAX_IMAGE_PIXELS = 1000000000\n",
    "\n",
    "def crop_and_save(image_path, output_folder, crop_size, stride):\n",
    "    # 이미지 열기\n",
    "    image = Image.open(image_path)\n",
    "    \n",
    "    total_width, total_height = image.size\n",
    "    crop_width, crop_height = crop_size\n",
    "    x_stride, y_stride = stride\n",
    "\n",
    "    if not os.path.exists(output_folder):\n",
    "        os.mkdir(output_folder)\n",
    "\n",
    "    for y in range(0, total_height - crop_height + 1, y_stride):\n",
    "        for x in range(0, total_width - crop_width + 1, x_stride):\n",
    "            left = x\n",
    "            upper = y\n",
    "            right = left + crop_width\n",
    "            lower = upper + crop_height\n",
    "\n",
    "            cropped_img = image.crop((left, upper, right, lower))\n",
    "\n",
    "            pixel_data = list(cropped_img.getdata())\n",
    "            total_pixel = 0\n",
    "\n",
    "            for pixel in pixel_data:\n",
    "                total_pixel += sum(pixel)\n",
    "\n",
    "            if total_pixel < 770000000:\n",
    "                save_path = f\"{output_folder}/crop_{x}_{y}.png\"\n",
    "                cropped_img.save(save_path)"
   ]
  },
  {
   "cell_type": "code",
   "execution_count": 6,
   "id": "ce83cbcb-0312-40ac-a586-7cb508cb4b19",
   "metadata": {},
   "outputs": [
    {
     "name": "stderr",
     "output_type": "stream",
     "text": [
      "C:\\Users\\user\\anaconda3\\envs\\HuBMAP\\lib\\site-packages\\PIL\\Image.py:3167: DecompressionBombWarning: Image size (1097628375 pixels) exceeds limit of 1000000000 pixels, could be decompression bomb DOS attack.\n",
      "  warnings.warn(\n",
      "C:\\Users\\user\\anaconda3\\envs\\HuBMAP\\lib\\site-packages\\PIL\\Image.py:3167: DecompressionBombWarning: Image size (1402810020 pixels) exceeds limit of 1000000000 pixels, could be decompression bomb DOS attack.\n",
      "  warnings.warn(\n",
      "C:\\Users\\user\\anaconda3\\envs\\HuBMAP\\lib\\site-packages\\PIL\\Image.py:3167: DecompressionBombWarning: Image size (1381801400 pixels) exceeds limit of 1000000000 pixels, could be decompression bomb DOS attack.\n",
      "  warnings.warn(\n",
      "C:\\Users\\user\\anaconda3\\envs\\HuBMAP\\lib\\site-packages\\PIL\\Image.py:3167: DecompressionBombWarning: Image size (1360867485 pixels) exceeds limit of 1000000000 pixels, could be decompression bomb DOS attack.\n",
      "  warnings.warn(\n",
      "C:\\Users\\user\\anaconda3\\envs\\HuBMAP\\lib\\site-packages\\PIL\\Image.py:3167: DecompressionBombWarning: Image size (1276560052 pixels) exceeds limit of 1000000000 pixels, could be decompression bomb DOS attack.\n",
      "  warnings.warn(\n",
      "C:\\Users\\user\\anaconda3\\envs\\HuBMAP\\lib\\site-packages\\PIL\\Image.py:3167: DecompressionBombWarning: Image size (1559711835 pixels) exceeds limit of 1000000000 pixels, could be decompression bomb DOS attack.\n",
      "  warnings.warn(\n"
     ]
    }
   ],
   "source": [
    "for img in test_img:\n",
    "    test_img_path = base_path + img\n",
    "    save_folder_path = save_path + img.split(\".\")[0] + \"/\"\n",
    "    crop_size = (1024, 1024)\n",
    "    stride = (512, 512)\n",
    "\n",
    "    crop_and_save(test_img_path, save_folder_path, crop_size, stride)"
   ]
  },
  {
   "cell_type": "code",
   "execution_count": null,
   "id": "96220987-f8b7-4b0a-a7e8-2573c0ee9636",
   "metadata": {},
   "outputs": [],
   "source": []
  }
 ],
 "metadata": {
  "kernelspec": {
   "display_name": "Python 3 (ipykernel)",
   "language": "python",
   "name": "python3"
  },
  "language_info": {
   "codemirror_mode": {
    "name": "ipython",
    "version": 3
   },
   "file_extension": ".py",
   "mimetype": "text/x-python",
   "name": "python",
   "nbconvert_exporter": "python",
   "pygments_lexer": "ipython3",
   "version": "3.10.0"
  }
 },
 "nbformat": 4,
 "nbformat_minor": 5
}
