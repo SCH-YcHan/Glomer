{
 "cells": [
  {
   "cell_type": "code",
   "execution_count": 2,
   "id": "3149b0ca-12cc-4703-a972-9a8fdb66a038",
   "metadata": {},
   "outputs": [],
   "source": [
    "import os\n",
    "os.environ['KMP_DUPLICATE_LIB_OK']='True'\n",
    "\n",
    "from mmseg.apis import init_model, inference_model, show_result_pyplot"
   ]
  },
  {
   "cell_type": "code",
   "execution_count": 3,
   "id": "12f5982c-5dae-44fb-9753-35d7f4beb5b0",
   "metadata": {},
   "outputs": [],
   "source": [
    "config_path = '../../work_dirs/pidnet-s_2xb6-120k_1024x1024-glomer/pidnet-s_2xb6-120k_1024x1024-glomer.py'\n",
    "checkpoint_path = '../../work_dirs/pidnet-s_2xb6-120k_1024x1024-glomer/iter_120000.pth'"
   ]
  },
  {
   "cell_type": "code",
   "execution_count": 4,
   "id": "f364f50a-a8e3-47c5-b5e2-8c7c55a14e3a",
   "metadata": {},
   "outputs": [
    {
     "name": "stderr",
     "output_type": "stream",
     "text": [
      "c:\\users\\user\\desktop\\hubmap\\mmsegmentation\\mmseg\\models\\decode_heads\\decode_head.py:120: UserWarning: For binary segmentation, we suggest using`out_channels = 1` to define the outputchannels of segmentor, and use `threshold`to convert `seg_logits` into a predictionapplying a threshold\n",
      "  warnings.warn('For binary segmentation, we suggest using'\n",
      "c:\\users\\user\\desktop\\hubmap\\mmsegmentation\\mmseg\\models\\builder.py:36: UserWarning: ``build_loss`` would be deprecated soon, please use ``mmseg.registry.MODELS.build()`` \n",
      "  warnings.warn('``build_loss`` would be deprecated soon, please use '\n",
      "c:\\users\\user\\desktop\\hubmap\\mmsegmentation\\mmseg\\models\\losses\\cross_entropy_loss.py:235: UserWarning: Default ``avg_non_ignore`` is False, if you would like to ignore the certain label and average loss over non-ignore labels, which is the same with PyTorch official cross_entropy, set ``avg_non_ignore=True``.\n",
      "  warnings.warn(\n"
     ]
    },
    {
     "name": "stdout",
     "output_type": "stream",
     "text": [
      "Loads checkpoint by local backend from path: ../../work_dirs/pidnet-s_2xb6-120k_1024x1024-glomer/iter_120000.pth\n"
     ]
    }
   ],
   "source": [
    "# build the model from a config file and a checkpoint file\n",
    "model = init_model(config_path, checkpoint_path, device='cuda:0')"
   ]
  },
  {
   "cell_type": "code",
   "execution_count": 11,
   "id": "e2eb1694-0161-4f07-a2cf-fc50ecdc072c",
   "metadata": {},
   "outputs": [],
   "source": [
    "img_base_path = \"../../test_img_cut/\"\n",
    "img_names = os.listdir(img_base_path)"
   ]
  },
  {
   "cell_type": "code",
   "execution_count": 17,
   "id": "5be3bdbd-a0e9-4fff-9c2a-3617b9814f8e",
   "metadata": {},
   "outputs": [
    {
     "data": {
      "text/plain": [
       "'crop_10240_16896.png'"
      ]
     },
     "execution_count": 17,
     "metadata": {},
     "output_type": "execute_result"
    }
   ],
   "source": [
    "img_names[4]"
   ]
  },
  {
   "cell_type": "code",
   "execution_count": null,
   "id": "408daacf-d818-4ba2-b23c-b8bd368d9317",
   "metadata": {},
   "outputs": [],
   "source": [
    "for img_name in img_names:\n",
    "    img_path = img_base_path + img_name\n",
    "\n",
    "    # inference on given image\n",
    "    result = inference_model(model, img_path)\n",
    "\n",
    "    # save the visualization result, the output image would be found at the path `work_dirs/result.png`\n",
    "    show_result_pyplot(model, img_path, result, out_file='../../test_seg_result/' + img_name, show=False)"
   ]
  }
 ],
 "metadata": {
  "kernelspec": {
   "display_name": "Python 3 (ipykernel)",
   "language": "python",
   "name": "python3"
  },
  "language_info": {
   "codemirror_mode": {
    "name": "ipython",
    "version": 3
   },
   "file_extension": ".py",
   "mimetype": "text/x-python",
   "name": "python",
   "nbconvert_exporter": "python",
   "pygments_lexer": "ipython3",
   "version": "3.10.0"
  }
 },
 "nbformat": 4,
 "nbformat_minor": 5
}
