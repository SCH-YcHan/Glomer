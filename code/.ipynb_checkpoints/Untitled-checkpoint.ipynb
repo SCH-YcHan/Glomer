{
 "cells": [
  {
   "cell_type": "code",
   "execution_count": 3,
   "id": "c34867a9-f125-4a32-ab36-d639248c254c",
   "metadata": {},
   "outputs": [
    {
     "name": "stdout",
     "output_type": "stream",
     "text": [
      "The class label at pixel (1000, 1000) is: 0\n"
     ]
    }
   ],
   "source": [
    "import cv2\n",
    "import numpy as np\n",
    "\n",
    "# 세그멘테이션 맵 로드\n",
    "seg_map_path = '../../cut_1024/val_mask/1e2425f28_0495.png'\n",
    "seg_map = cv2.imread(seg_map_path, cv2.IMREAD_UNCHANGED)\n",
    "\n",
    "# 클래스 레이블 확인\n",
    "row, col = 1000, 1000  # 확인하고자 하는 픽셀의 위치 (예시로 임의의 위치 사용)\n",
    "pixel_class = seg_map[row, col]\n",
    "\n",
    "# 클래스 레이블 출력\n",
    "print(f\"The class label at pixel ({row}, {col}) is: {pixel_class}\")"
   ]
  },
  {
   "cell_type": "code",
   "execution_count": null,
   "id": "ee8d92c4-e000-44de-b5e6-4b9d20d0bc36",
   "metadata": {},
   "outputs": [],
   "source": []
  }
 ],
 "metadata": {
  "kernelspec": {
   "display_name": "Python 3 (ipykernel)",
   "language": "python",
   "name": "python3"
  },
  "language_info": {
   "codemirror_mode": {
    "name": "ipython",
    "version": 3
   },
   "file_extension": ".py",
   "mimetype": "text/x-python",
   "name": "python",
   "nbconvert_exporter": "python",
   "pygments_lexer": "ipython3",
   "version": "3.10.0"
  }
 },
 "nbformat": 4,
 "nbformat_minor": 5
}
