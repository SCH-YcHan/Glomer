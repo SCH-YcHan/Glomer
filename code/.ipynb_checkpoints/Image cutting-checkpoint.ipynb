{
 "cells": [
  {
   "cell_type": "code",
   "execution_count": 1,
   "id": "9166b30b-acb5-4db5-aa82-538f4ff06175",
   "metadata": {},
   "outputs": [],
   "source": [
    "import os\n",
    "from PIL import Image"
   ]
  },
  {
   "cell_type": "code",
   "execution_count": 2,
   "id": "214526c1-1828-418d-b3ec-a35183d6e2b4",
   "metadata": {},
   "outputs": [],
   "source": [
    "if not os.path.exists(\"../../test_img_cut\"):\n",
    "    os.mkdir(\"../../test_img_cut\")"
   ]
  },
  {
   "cell_type": "code",
   "execution_count": 3,
   "id": "36336b55-455e-4a15-a1af-e567bb1dc56c",
   "metadata": {},
   "outputs": [],
   "source": [
    "Image.MAX_IMAGE_PIXELS = 1000000000\n",
    "\n",
    "def crop_and_save(image_path, output_folder, crop_size, stride):\n",
    "    # 이미지 열기\n",
    "    image = Image.open(image_path)\n",
    "    \n",
    "    total_width, total_height = image.size\n",
    "    crop_width, crop_height = crop_size\n",
    "    x_stride, y_stride = stride\n",
    "\n",
    "    for y in range(0, total_height - crop_height + 1, y_stride):\n",
    "        for x in range(0, total_width - crop_width + 1, x_stride):\n",
    "            left = x\n",
    "            upper = y\n",
    "            right = left + crop_width\n",
    "            lower = upper + crop_height\n",
    "\n",
    "            cropped_img = image.crop((left, upper, right, lower))\n",
    "\n",
    "            pixel_data = list(cropped_img.getdata())\n",
    "            total_pixel = 0\n",
    "\n",
    "            for pixel in pixel_data:\n",
    "                total_pixel += sum(pixel)\n",
    "\n",
    "            if total_pixel < 770000000:\n",
    "                save_path = f\"{output_folder}/crop_{x}_{y}.png\"\n",
    "                cropped_img.save(save_path)\n",
    "\n",
    "image_path = \"../../../glomer/test_20x.tif\"  # 원본 이미지 경로\n",
    "output_folder = \"../../test_img_cut/\"       # 잘린 이미지를 저장할 폴더 경로\n",
    "crop_size = (1024, 1024)              # 잘린 이미지의 크기 (너비 x 높이)\n",
    "stride = (512, 512)                 # 이동 간격 (x 이동, y 이동)\n",
    "\n",
    "crop_and_save(image_path, output_folder, crop_size, stride)"
   ]
  },
  {
   "cell_type": "code",
   "execution_count": null,
   "id": "8a9315c3-4cd9-42e8-b83e-59a9edcf0d4f",
   "metadata": {},
   "outputs": [],
   "source": []
  }
 ],
 "metadata": {
  "kernelspec": {
   "display_name": "Python 3 (ipykernel)",
   "language": "python",
   "name": "python3"
  },
  "language_info": {
   "codemirror_mode": {
    "name": "ipython",
    "version": 3
   },
   "file_extension": ".py",
   "mimetype": "text/x-python",
   "name": "python",
   "nbconvert_exporter": "python",
   "pygments_lexer": "ipython3",
   "version": "3.10.0"
  }
 },
 "nbformat": 4,
 "nbformat_minor": 5
}
