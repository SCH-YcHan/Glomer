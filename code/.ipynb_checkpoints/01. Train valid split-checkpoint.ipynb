{
 "cells": [
  {
   "cell_type": "code",
   "execution_count": 1,
   "id": "51f95df5-cc6e-45b4-87a6-89eedd886ac8",
   "metadata": {},
   "outputs": [],
   "source": [
    "import os\n",
    "import shutil\n",
    "from sklearn.model_selection import train_test_split"
   ]
  },
  {
   "cell_type": "code",
   "execution_count": 2,
   "id": "8f474bf6-949e-49a3-ae24-4b623dbff514",
   "metadata": {},
   "outputs": [],
   "source": [
    "# Dataset path\n",
    "original_dataset_path = '../../cut_256/'\n",
    "\n",
    "# 이미지와 마스크 폴더 경로\n",
    "image_folder = 'train'\n",
    "mask_folder = 'masks'\n",
    "\n",
    "# 새로운 데이터셋 하위 폴더 이름\n",
    "new_subfolders = ['train_img', 'train_mask', 'val_img', 'val_mask']\n",
    "\n",
    "# 새로운 데이터셋 폴더 생성\n",
    "for subfolder in new_subfolders:\n",
    "    os.makedirs(os.path.join(original_dataset_path, subfolder), exist_ok=True)\n",
    "\n",
    "# 이미지와 마스크 파일 리스트 가져오기\n",
    "image_files = os.listdir(os.path.join(original_dataset_path, image_folder))\n",
    "mask_files = os.listdir(os.path.join(original_dataset_path, mask_folder))\n",
    "\n",
    "# 데이터 분할 (train:val = 9:1)\n",
    "train_image_files, val_image_files, train_mask_files, val_mask_files = train_test_split(image_files, mask_files, test_size=0.1, random_state=42)\n",
    "\n",
    "# 파일 이동\n",
    "for source_file, target_folder in zip(train_image_files, ['train_img'] * len(train_image_files)):\n",
    "    source_path = os.path.join(original_dataset_path, image_folder, source_file)\n",
    "    target_path = os.path.join(original_dataset_path, target_folder, source_file)\n",
    "    shutil.move(source_path, target_path)\n",
    "\n",
    "for source_file, target_folder in zip(val_image_files, ['val_img'] * len(val_image_files)):\n",
    "    source_path = os.path.join(original_dataset_path, image_folder, source_file)\n",
    "    target_path = os.path.join(original_dataset_path, target_folder, source_file)\n",
    "    shutil.move(source_path, target_path)\n",
    "\n",
    "for source_file, target_folder in zip(train_mask_files, ['train_mask'] * len(train_mask_files)):\n",
    "    source_path = os.path.join(original_dataset_path, mask_folder, source_file)\n",
    "    target_path = os.path.join(original_dataset_path, target_folder, source_file)\n",
    "    shutil.move(source_path, target_path)\n",
    "\n",
    "for source_file, target_folder in zip(val_mask_files, ['val_mask'] * len(val_mask_files)):\n",
    "    source_path = os.path.join(original_dataset_path, mask_folder, source_file)\n",
    "    target_path = os.path.join(original_dataset_path, target_folder, source_file)\n",
    "    shutil.move(source_path, target_path)\n",
    "\n",
    "# 기존 폴더 삭제\n",
    "os.rmdir(os.path.join(original_dataset_path, image_folder))\n",
    "os.rmdir(os.path.join(original_dataset_path, mask_folder))"
   ]
  },
  {
   "cell_type": "code",
   "execution_count": null,
   "id": "f1a97d4b-b09c-41f3-ae41-66d687e96196",
   "metadata": {},
   "outputs": [],
   "source": []
  }
 ],
 "metadata": {
  "kernelspec": {
   "display_name": "Python 3 (ipykernel)",
   "language": "python",
   "name": "python3"
  },
  "language_info": {
   "codemirror_mode": {
    "name": "ipython",
    "version": 3
   },
   "file_extension": ".py",
   "mimetype": "text/x-python",
   "name": "python",
   "nbconvert_exporter": "python",
   "pygments_lexer": "ipython3",
   "version": "3.10.0"
  }
 },
 "nbformat": 4,
 "nbformat_minor": 5
}
